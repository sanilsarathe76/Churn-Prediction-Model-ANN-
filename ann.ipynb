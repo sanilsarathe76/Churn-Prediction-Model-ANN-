{
  "nbformat": 4,
  "nbformat_minor": 0,
  "metadata": {
    "colab": {
      "name": "ann.ipynb",
      "provenance": []
    },
    "kernelspec": {
      "name": "python3",
      "display_name": "Python 3"
    },
    "language_info": {
      "name": "python"
    },
    "accelerator": "GPU"
  },
  "cells": [
    {
      "cell_type": "code",
      "metadata": {
        "colab": {
          "base_uri": "https://localhost:8080/"
        },
        "id": "GNm94fiOHn-T",
        "outputId": "35e2909c-a39d-4cb9-b013-fbb2065b44d7"
      },
      "source": [
        "from google.colab import drive\n",
        "drive.mount('/content/drive')"
      ],
      "execution_count": 6,
      "outputs": [
        {
          "output_type": "stream",
          "name": "stdout",
          "text": [
            "Drive already mounted at /content/drive; to attempt to forcibly remount, call drive.mount(\"/content/drive\", force_remount=True).\n"
          ]
        }
      ]
    },
    {
      "cell_type": "code",
      "metadata": {
        "colab": {
          "base_uri": "https://localhost:8080/",
          "height": 35
        },
        "id": "XDCJcSPz4kDh",
        "outputId": "8bc18817-e394-444f-928c-7687ac1bd685"
      },
      "source": [
        "# Test wheather GPU is working\n",
        "import tensorflow as tf\n",
        "tf.test.gpu_device_name()"
      ],
      "execution_count": 7,
      "outputs": [
        {
          "output_type": "execute_result",
          "data": {
            "application/vnd.google.colaboratory.intrinsic+json": {
              "type": "string"
            },
            "text/plain": [
              "'/device:GPU:0'"
            ]
          },
          "metadata": {},
          "execution_count": 7
        }
      ]
    },
    {
      "cell_type": "code",
      "metadata": {
        "colab": {
          "base_uri": "https://localhost:8080/"
        },
        "id": "a5-yOii24j7x",
        "outputId": "55a75871-66c1-4a0a-a0c3-c7b6b8b90860"
      },
      "source": [
        "# which GPU we are using\n",
        "from tensorflow.python.client import device_lib\n",
        "device_lib.list_local_devices()"
      ],
      "execution_count": 3,
      "outputs": [
        {
          "output_type": "execute_result",
          "data": {
            "text/plain": [
              "[name: \"/device:CPU:0\"\n",
              " device_type: \"CPU\"\n",
              " memory_limit: 268435456\n",
              " locality {\n",
              " }\n",
              " incarnation: 5672322015362620723, name: \"/device:GPU:0\"\n",
              " device_type: \"GPU\"\n",
              " memory_limit: 11345264640\n",
              " locality {\n",
              "   bus_id: 1\n",
              "   links {\n",
              "   }\n",
              " }\n",
              " incarnation: 11819644773079934977\n",
              " physical_device_desc: \"device: 0, name: Tesla K80, pci bus id: 0000:00:04.0, compute capability: 3.7\"]"
            ]
          },
          "metadata": {},
          "execution_count": 3
        }
      ]
    },
    {
      "cell_type": "code",
      "metadata": {
        "colab": {
          "base_uri": "https://localhost:8080/"
        },
        "id": "yzu4j5tC596Z",
        "outputId": "0696a3a1-1357-4d93-96a7-d92c3add9019"
      },
      "source": [
        "# RAM Information\n",
        "!cat /proc/meminfo"
      ],
      "execution_count": null,
      "outputs": [
        {
          "output_type": "stream",
          "text": [
            "MemTotal:       13333564 kB\n",
            "MemFree:         9512052 kB\n",
            "MemAvailable:   12016248 kB\n",
            "Buffers:           84008 kB\n",
            "Cached:          2413244 kB\n",
            "SwapCached:            0 kB\n",
            "Active:          1317228 kB\n",
            "Inactive:        2077580 kB\n",
            "Active(anon):     706212 kB\n",
            "Inactive(anon):    10600 kB\n",
            "Active(file):     611016 kB\n",
            "Inactive(file):  2066980 kB\n",
            "Unevictable:           0 kB\n",
            "Mlocked:               0 kB\n",
            "SwapTotal:             0 kB\n",
            "SwapFree:              0 kB\n",
            "Dirty:               952 kB\n",
            "Writeback:             0 kB\n",
            "AnonPages:        897572 kB\n",
            "Mapped:           577944 kB\n",
            "Shmem:             11268 kB\n",
            "Slab:             186064 kB\n",
            "SReclaimable:     133948 kB\n",
            "SUnreclaim:        52116 kB\n",
            "KernelStack:        5200 kB\n",
            "PageTables:         9008 kB\n",
            "NFS_Unstable:          0 kB\n",
            "Bounce:                0 kB\n",
            "WritebackTmp:          0 kB\n",
            "CommitLimit:     6666780 kB\n",
            "Committed_AS:    4016652 kB\n",
            "VmallocTotal:   34359738367 kB\n",
            "VmallocUsed:           0 kB\n",
            "VmallocChunk:          0 kB\n",
            "Percpu:             1040 kB\n",
            "AnonHugePages:         0 kB\n",
            "ShmemHugePages:        0 kB\n",
            "ShmemPmdMapped:        0 kB\n",
            "HugePages_Total:       0\n",
            "HugePages_Free:        0\n",
            "HugePages_Rsvd:        0\n",
            "HugePages_Surp:        0\n",
            "Hugepagesize:       2048 kB\n",
            "Hugetlb:               0 kB\n",
            "DirectMap4k:      214216 kB\n",
            "DirectMap2M:     7124992 kB\n",
            "DirectMap1G:     8388608 kB\n"
          ],
          "name": "stdout"
        }
      ]
    },
    {
      "cell_type": "code",
      "metadata": {
        "colab": {
          "base_uri": "https://localhost:8080/"
        },
        "id": "dB3ZPTuv6Quf",
        "outputId": "ee2ef1c2-02d7-443f-d9a0-566df087c5d3"
      },
      "source": [
        "!cat /proc/cpuinfo"
      ],
      "execution_count": null,
      "outputs": [
        {
          "output_type": "stream",
          "text": [
            "processor\t: 0\n",
            "vendor_id\t: GenuineIntel\n",
            "cpu family\t: 6\n",
            "model\t\t: 79\n",
            "model name\t: Intel(R) Xeon(R) CPU @ 2.20GHz\n",
            "stepping\t: 0\n",
            "microcode\t: 0x1\n",
            "cpu MHz\t\t: 2199.998\n",
            "cache size\t: 56320 KB\n",
            "physical id\t: 0\n",
            "siblings\t: 2\n",
            "core id\t\t: 0\n",
            "cpu cores\t: 1\n",
            "apicid\t\t: 0\n",
            "initial apicid\t: 0\n",
            "fpu\t\t: yes\n",
            "fpu_exception\t: yes\n",
            "cpuid level\t: 13\n",
            "wp\t\t: yes\n",
            "flags\t\t: fpu vme de pse tsc msr pae mce cx8 apic sep mtrr pge mca cmov pat pse36 clflush mmx fxsr sse sse2 ss ht syscall nx pdpe1gb rdtscp lm constant_tsc rep_good nopl xtopology nonstop_tsc cpuid tsc_known_freq pni pclmulqdq ssse3 fma cx16 pcid sse4_1 sse4_2 x2apic movbe popcnt aes xsave avx f16c rdrand hypervisor lahf_lm abm 3dnowprefetch invpcid_single ssbd ibrs ibpb stibp fsgsbase tsc_adjust bmi1 hle avx2 smep bmi2 erms invpcid rtm rdseed adx smap xsaveopt arat md_clear arch_capabilities\n",
            "bugs\t\t: cpu_meltdown spectre_v1 spectre_v2 spec_store_bypass l1tf mds swapgs taa\n",
            "bogomips\t: 4399.99\n",
            "clflush size\t: 64\n",
            "cache_alignment\t: 64\n",
            "address sizes\t: 46 bits physical, 48 bits virtual\n",
            "power management:\n",
            "\n",
            "processor\t: 1\n",
            "vendor_id\t: GenuineIntel\n",
            "cpu family\t: 6\n",
            "model\t\t: 79\n",
            "model name\t: Intel(R) Xeon(R) CPU @ 2.20GHz\n",
            "stepping\t: 0\n",
            "microcode\t: 0x1\n",
            "cpu MHz\t\t: 2199.998\n",
            "cache size\t: 56320 KB\n",
            "physical id\t: 0\n",
            "siblings\t: 2\n",
            "core id\t\t: 0\n",
            "cpu cores\t: 1\n",
            "apicid\t\t: 1\n",
            "initial apicid\t: 1\n",
            "fpu\t\t: yes\n",
            "fpu_exception\t: yes\n",
            "cpuid level\t: 13\n",
            "wp\t\t: yes\n",
            "flags\t\t: fpu vme de pse tsc msr pae mce cx8 apic sep mtrr pge mca cmov pat pse36 clflush mmx fxsr sse sse2 ss ht syscall nx pdpe1gb rdtscp lm constant_tsc rep_good nopl xtopology nonstop_tsc cpuid tsc_known_freq pni pclmulqdq ssse3 fma cx16 pcid sse4_1 sse4_2 x2apic movbe popcnt aes xsave avx f16c rdrand hypervisor lahf_lm abm 3dnowprefetch invpcid_single ssbd ibrs ibpb stibp fsgsbase tsc_adjust bmi1 hle avx2 smep bmi2 erms invpcid rtm rdseed adx smap xsaveopt arat md_clear arch_capabilities\n",
            "bugs\t\t: cpu_meltdown spectre_v1 spectre_v2 spec_store_bypass l1tf mds swapgs taa\n",
            "bogomips\t: 4399.99\n",
            "clflush size\t: 64\n",
            "cache_alignment\t: 64\n",
            "address sizes\t: 46 bits physical, 48 bits virtual\n",
            "power management:\n",
            "\n"
          ],
          "name": "stdout"
        }
      ]
    },
    {
      "cell_type": "markdown",
      "metadata": {
        "id": "tWZjK8vDRsW2"
      },
      "source": [
        "# Artificial Neural Network"
      ]
    },
    {
      "cell_type": "markdown",
      "metadata": {
        "id": "AfxxGQ7x8JNN"
      },
      "source": [
        "## Part 1 - Data Preprocessing"
      ]
    },
    {
      "cell_type": "code",
      "metadata": {
        "id": "8FhOdWJ-Rhce"
      },
      "source": [
        "# Importing the libraries\n",
        "import numpy as np\n",
        "import pandas as pd\n",
        "import matplotlib.pyplot as plt"
      ],
      "execution_count": 11,
      "outputs": []
    },
    {
      "cell_type": "code",
      "metadata": {
        "id": "Np0khcE3Tp2k"
      },
      "source": [
        "# Importing the DataSet\n",
        "dataset = pd.read_csv('/content/drive/MyDrive/Krish Naik/ANN(Artificial Neural Network)/ann.ipynb')\n",
        "X = dataset.iloc[:, 3:13]\n",
        "y = dataset.iloc[:, 13]"
      ],
      "execution_count": 10,
      "outputs": []
    },
    {
      "cell_type": "code",
      "metadata": {
        "colab": {
          "base_uri": "https://localhost:8080/"
        },
        "id": "CyJRPbw5VVxo",
        "outputId": "096e1a48-f553-4b70-ad04-1af257a2e4e9"
      },
      "source": [
        "print(X)"
      ],
      "execution_count": null,
      "outputs": [
        {
          "output_type": "stream",
          "text": [
            "      CreditScore Geography  Gender  ...  HasCrCard  IsActiveMember  EstimatedSalary\n",
            "0             619    France  Female  ...          1               1        101348.88\n",
            "1             608     Spain  Female  ...          0               1        112542.58\n",
            "2             502    France  Female  ...          1               0        113931.57\n",
            "3             699    France  Female  ...          0               0         93826.63\n",
            "4             850     Spain  Female  ...          1               1         79084.10\n",
            "...           ...       ...     ...  ...        ...             ...              ...\n",
            "9995          771    France    Male  ...          1               0         96270.64\n",
            "9996          516    France    Male  ...          1               1        101699.77\n",
            "9997          709    France  Female  ...          0               1         42085.58\n",
            "9998          772   Germany    Male  ...          1               0         92888.52\n",
            "9999          792    France  Female  ...          1               0         38190.78\n",
            "\n",
            "[10000 rows x 10 columns]\n"
          ],
          "name": "stdout"
        }
      ]
    },
    {
      "cell_type": "code",
      "metadata": {
        "colab": {
          "base_uri": "https://localhost:8080/"
        },
        "id": "ItMMqY0yVYQE",
        "outputId": "8fcc8664-abcf-4288-8741-fa2db4b760fe"
      },
      "source": [
        "print(y)"
      ],
      "execution_count": null,
      "outputs": [
        {
          "output_type": "stream",
          "text": [
            "0       1\n",
            "1       0\n",
            "2       1\n",
            "3       0\n",
            "4       0\n",
            "       ..\n",
            "9995    0\n",
            "9996    0\n",
            "9997    1\n",
            "9998    1\n",
            "9999    0\n",
            "Name: Exited, Length: 10000, dtype: int64\n"
          ],
          "name": "stdout"
        }
      ]
    },
    {
      "cell_type": "code",
      "metadata": {
        "id": "G81JkzkFUWdZ"
      },
      "source": [
        "# Create dummy variables\n",
        "geography = pd.get_dummies(X[\"Geography\"], drop_first = True)\n",
        "gender = pd.get_dummies(X[\"Gender\"], drop_first = True)"
      ],
      "execution_count": null,
      "outputs": []
    },
    {
      "cell_type": "code",
      "metadata": {
        "id": "8aAOapzrW--8"
      },
      "source": [
        "# Concatenate both columns\n",
        "X = pd.concat([X,geography,gender], axis = 1)"
      ],
      "execution_count": null,
      "outputs": []
    },
    {
      "cell_type": "code",
      "metadata": {
        "colab": {
          "base_uri": "https://localhost:8080/"
        },
        "id": "enxdpRvcXBSR",
        "outputId": "b3718acc-dcc1-4a6f-eb7f-da7f6ae952bb"
      },
      "source": [
        "print(X)"
      ],
      "execution_count": null,
      "outputs": [
        {
          "output_type": "stream",
          "text": [
            "      CreditScore Geography  Gender  Age  ...  EstimatedSalary  Germany  Spain  Male\n",
            "0             619    France  Female   42  ...        101348.88        0      0     0\n",
            "1             608     Spain  Female   41  ...        112542.58        0      1     0\n",
            "2             502    France  Female   42  ...        113931.57        0      0     0\n",
            "3             699    France  Female   39  ...         93826.63        0      0     0\n",
            "4             850     Spain  Female   43  ...         79084.10        0      1     0\n",
            "...           ...       ...     ...  ...  ...              ...      ...    ...   ...\n",
            "9995          771    France    Male   39  ...         96270.64        0      0     1\n",
            "9996          516    France    Male   35  ...        101699.77        0      0     1\n",
            "9997          709    France  Female   36  ...         42085.58        0      0     0\n",
            "9998          772   Germany    Male   42  ...         92888.52        1      0     1\n",
            "9999          792    France  Female   28  ...         38190.78        0      0     0\n",
            "\n",
            "[10000 rows x 13 columns]\n"
          ],
          "name": "stdout"
        }
      ]
    },
    {
      "cell_type": "code",
      "metadata": {
        "id": "rFqXVTNVX1DO"
      },
      "source": [
        "# drop columns\n",
        "X = X.drop(['Geography', 'Gender'], axis = 1)"
      ],
      "execution_count": null,
      "outputs": []
    },
    {
      "cell_type": "code",
      "metadata": {
        "colab": {
          "base_uri": "https://localhost:8080/"
        },
        "id": "o7AbD0-yYNhK",
        "outputId": "7bc68a2e-4a5e-43bd-cf0b-37d7a330b177"
      },
      "source": [
        "print(X)"
      ],
      "execution_count": null,
      "outputs": [
        {
          "output_type": "stream",
          "text": [
            "      CreditScore  Age  Tenure  ...  Germany  Spain  Male\n",
            "0             619   42       2  ...        0      0     0\n",
            "1             608   41       1  ...        0      1     0\n",
            "2             502   42       8  ...        0      0     0\n",
            "3             699   39       1  ...        0      0     0\n",
            "4             850   43       2  ...        0      1     0\n",
            "...           ...  ...     ...  ...      ...    ...   ...\n",
            "9995          771   39       5  ...        0      0     1\n",
            "9996          516   35      10  ...        0      0     1\n",
            "9997          709   36       7  ...        0      0     0\n",
            "9998          772   42       3  ...        1      0     1\n",
            "9999          792   28       4  ...        0      0     0\n",
            "\n",
            "[10000 rows x 11 columns]\n"
          ],
          "name": "stdout"
        }
      ]
    },
    {
      "cell_type": "code",
      "metadata": {
        "id": "lveh3KjLYPMD"
      },
      "source": [
        "# Splitting the dataset into training set and test set\n",
        "from sklearn.model_selection import train_test_split\n",
        "X_train, X_test, y_train, y_test = train_test_split(X,y, test_size = 0.2, random_state = 0)"
      ],
      "execution_count": null,
      "outputs": []
    },
    {
      "cell_type": "code",
      "metadata": {
        "id": "mMLuEkpbYn4n"
      },
      "source": [
        "# Feature Scaling\n",
        "from sklearn.preprocessing import StandardScaler\n",
        "sc = StandardScaler()\n",
        "X_train = sc.fit_transform(X_train)\n",
        "X_test = sc.fit_transform(X_test)"
      ],
      "execution_count": null,
      "outputs": []
    },
    {
      "cell_type": "markdown",
      "metadata": {
        "id": "wjiEFW0CaNgF"
      },
      "source": [
        "## Part 2 - Now lets make the ann"
      ]
    },
    {
      "cell_type": "markdown",
      "metadata": {
        "id": "n3b_4OIkaTp_"
      },
      "source": [
        "## Importing the keras libraries and packages"
      ]
    },
    {
      "cell_type": "code",
      "metadata": {
        "id": "qLfwME1UYphu"
      },
      "source": [
        "import keras\n",
        "from keras.models import Sequential\n",
        "from keras.layers import Dense\n",
        "from keras.layers import LeakyReLU, PReLU, ELU\n",
        "from keras.layers import Dropout"
      ],
      "execution_count": null,
      "outputs": []
    },
    {
      "cell_type": "code",
      "metadata": {
        "id": "aklSWnnob60l"
      },
      "source": [
        "# Initializing the ANN\n",
        "classifier = Sequential()"
      ],
      "execution_count": null,
      "outputs": []
    },
    {
      "cell_type": "code",
      "metadata": {
        "id": "hUkMNUsVcQDE"
      },
      "source": [
        "# Adding the input layer and the first hidden layer\n",
        "classifier.add(Dense(units = 10, kernel_initializer = 'he_uniform', activation='relu', input_dim = 11))\n",
        "classifier.add(Dropout(0.3))"
      ],
      "execution_count": null,
      "outputs": []
    },
    {
      "cell_type": "code",
      "metadata": {
        "id": "hZTgCluBd_8g"
      },
      "source": [
        "# Adding the second hidden layer\n",
        "classifier.add(Dense(units = 20, kernel_initializer = 'he_uniform', activation = 'relu'))\n",
        "classifier.add(Dropout(0.4))"
      ],
      "execution_count": null,
      "outputs": []
    },
    {
      "cell_type": "code",
      "metadata": {
        "id": "OMf3cRaMlT5w"
      },
      "source": [
        "# Adding the third hidden layer\n",
        "classifier.add(Dense(units = 15, kernel_initializer = 'he_uniform', activation = 'relu'))\n",
        "classifier.add(Dropout(0.2))"
      ],
      "execution_count": null,
      "outputs": []
    },
    {
      "cell_type": "code",
      "metadata": {
        "id": "AB_qyS13cnHy"
      },
      "source": [
        "# Adding the output layer\n",
        "classifier.add(Dense(units = 1, kernel_initializer = 'glorot_uniform', activation = 'sigmoid'))"
      ],
      "execution_count": null,
      "outputs": []
    },
    {
      "cell_type": "code",
      "metadata": {
        "id": "b61LB7ffd0Wk"
      },
      "source": [
        "# Compiling the ANN\n",
        "classifier.compile(optimizer = 'adam', loss = 'binary_crossentropy', metrics = ['accuracy'])"
      ],
      "execution_count": null,
      "outputs": []
    },
    {
      "cell_type": "code",
      "metadata": {
        "colab": {
          "base_uri": "https://localhost:8080/"
        },
        "id": "Cot4VCaRe4f5",
        "outputId": "51418f26-849e-43ea-ea12-14be1a528be8"
      },
      "source": [
        "model_history = classifier.fit(X_train, y_train, validation_split = 0.33, batch_size = 10, epochs = 100)"
      ],
      "execution_count": null,
      "outputs": [
        {
          "output_type": "stream",
          "text": [
            "Epoch 1/100\n",
            "536/536 [==============================] - 5s 4ms/step - loss: 1.1732 - accuracy: 0.5415 - val_loss: 0.4965 - val_accuracy: 0.7955\n",
            "Epoch 2/100\n",
            "536/536 [==============================] - 2s 3ms/step - loss: 0.5531 - accuracy: 0.7781 - val_loss: 0.4789 - val_accuracy: 0.7955\n",
            "Epoch 3/100\n",
            "536/536 [==============================] - 2s 3ms/step - loss: 0.4967 - accuracy: 0.8026 - val_loss: 0.4670 - val_accuracy: 0.7959\n",
            "Epoch 4/100\n",
            "536/536 [==============================] - 2s 3ms/step - loss: 0.5091 - accuracy: 0.7853 - val_loss: 0.4547 - val_accuracy: 0.7955\n",
            "Epoch 5/100\n",
            "536/536 [==============================] - 2s 3ms/step - loss: 0.4760 - accuracy: 0.7994 - val_loss: 0.4494 - val_accuracy: 0.7959\n",
            "Epoch 6/100\n",
            "536/536 [==============================] - 2s 3ms/step - loss: 0.4632 - accuracy: 0.8030 - val_loss: 0.4436 - val_accuracy: 0.7959\n",
            "Epoch 7/100\n",
            "536/536 [==============================] - 2s 3ms/step - loss: 0.4694 - accuracy: 0.7893 - val_loss: 0.4391 - val_accuracy: 0.7959\n",
            "Epoch 8/100\n",
            "536/536 [==============================] - 2s 3ms/step - loss: 0.4533 - accuracy: 0.8056 - val_loss: 0.4386 - val_accuracy: 0.7959\n",
            "Epoch 9/100\n",
            "536/536 [==============================] - 2s 3ms/step - loss: 0.4674 - accuracy: 0.7949 - val_loss: 0.4337 - val_accuracy: 0.7959\n",
            "Epoch 10/100\n",
            "536/536 [==============================] - 2s 3ms/step - loss: 0.4616 - accuracy: 0.7972 - val_loss: 0.4329 - val_accuracy: 0.7959\n",
            "Epoch 11/100\n",
            "536/536 [==============================] - 2s 3ms/step - loss: 0.4310 - accuracy: 0.8130 - val_loss: 0.4318 - val_accuracy: 0.7959\n",
            "Epoch 12/100\n",
            "536/536 [==============================] - 2s 3ms/step - loss: 0.4475 - accuracy: 0.8060 - val_loss: 0.4294 - val_accuracy: 0.7963\n",
            "Epoch 13/100\n",
            "536/536 [==============================] - 2s 3ms/step - loss: 0.4510 - accuracy: 0.8043 - val_loss: 0.4220 - val_accuracy: 0.8111\n",
            "Epoch 14/100\n",
            "536/536 [==============================] - 2s 3ms/step - loss: 0.4501 - accuracy: 0.8102 - val_loss: 0.4257 - val_accuracy: 0.7955\n",
            "Epoch 15/100\n",
            "536/536 [==============================] - 2s 3ms/step - loss: 0.4230 - accuracy: 0.8229 - val_loss: 0.4204 - val_accuracy: 0.8073\n",
            "Epoch 16/100\n",
            "536/536 [==============================] - 2s 3ms/step - loss: 0.4273 - accuracy: 0.8160 - val_loss: 0.4139 - val_accuracy: 0.8122\n",
            "Epoch 17/100\n",
            "536/536 [==============================] - 2s 3ms/step - loss: 0.4208 - accuracy: 0.8194 - val_loss: 0.4123 - val_accuracy: 0.8141\n",
            "Epoch 18/100\n",
            "536/536 [==============================] - 2s 3ms/step - loss: 0.4199 - accuracy: 0.8207 - val_loss: 0.4077 - val_accuracy: 0.8194\n",
            "Epoch 19/100\n",
            "536/536 [==============================] - 2s 3ms/step - loss: 0.4209 - accuracy: 0.8223 - val_loss: 0.4019 - val_accuracy: 0.8262\n",
            "Epoch 20/100\n",
            "536/536 [==============================] - 2s 3ms/step - loss: 0.4130 - accuracy: 0.8345 - val_loss: 0.3996 - val_accuracy: 0.8254\n",
            "Epoch 21/100\n",
            "536/536 [==============================] - 2s 3ms/step - loss: 0.4091 - accuracy: 0.8220 - val_loss: 0.3967 - val_accuracy: 0.8201\n",
            "Epoch 22/100\n",
            "536/536 [==============================] - 2s 3ms/step - loss: 0.4105 - accuracy: 0.8270 - val_loss: 0.3933 - val_accuracy: 0.8232\n",
            "Epoch 23/100\n",
            "536/536 [==============================] - 2s 3ms/step - loss: 0.4023 - accuracy: 0.8314 - val_loss: 0.3879 - val_accuracy: 0.8285\n",
            "Epoch 24/100\n",
            "536/536 [==============================] - 2s 3ms/step - loss: 0.3982 - accuracy: 0.8286 - val_loss: 0.3874 - val_accuracy: 0.8164\n",
            "Epoch 25/100\n",
            "536/536 [==============================] - 2s 3ms/step - loss: 0.3990 - accuracy: 0.8331 - val_loss: 0.3825 - val_accuracy: 0.8334\n",
            "Epoch 26/100\n",
            "536/536 [==============================] - 2s 3ms/step - loss: 0.3926 - accuracy: 0.8363 - val_loss: 0.3795 - val_accuracy: 0.8342\n",
            "Epoch 27/100\n",
            "536/536 [==============================] - 2s 3ms/step - loss: 0.3965 - accuracy: 0.8300 - val_loss: 0.3819 - val_accuracy: 0.8307\n",
            "Epoch 28/100\n",
            "536/536 [==============================] - 2s 3ms/step - loss: 0.3724 - accuracy: 0.8487 - val_loss: 0.3837 - val_accuracy: 0.8247\n",
            "Epoch 29/100\n",
            "536/536 [==============================] - 2s 3ms/step - loss: 0.3730 - accuracy: 0.8463 - val_loss: 0.3791 - val_accuracy: 0.8410\n",
            "Epoch 30/100\n",
            "536/536 [==============================] - 2s 3ms/step - loss: 0.3777 - accuracy: 0.8430 - val_loss: 0.3791 - val_accuracy: 0.8364\n",
            "Epoch 31/100\n",
            "536/536 [==============================] - 2s 3ms/step - loss: 0.3818 - accuracy: 0.8411 - val_loss: 0.3768 - val_accuracy: 0.8410\n",
            "Epoch 32/100\n",
            "536/536 [==============================] - 2s 3ms/step - loss: 0.3854 - accuracy: 0.8354 - val_loss: 0.3753 - val_accuracy: 0.8429\n",
            "Epoch 33/100\n",
            "536/536 [==============================] - 2s 3ms/step - loss: 0.3712 - accuracy: 0.8480 - val_loss: 0.3755 - val_accuracy: 0.8395\n",
            "Epoch 34/100\n",
            "536/536 [==============================] - 2s 3ms/step - loss: 0.3751 - accuracy: 0.8501 - val_loss: 0.3742 - val_accuracy: 0.8383\n",
            "Epoch 35/100\n",
            "536/536 [==============================] - 2s 3ms/step - loss: 0.3658 - accuracy: 0.8497 - val_loss: 0.3754 - val_accuracy: 0.8357\n",
            "Epoch 36/100\n",
            "536/536 [==============================] - 2s 3ms/step - loss: 0.3624 - accuracy: 0.8461 - val_loss: 0.3738 - val_accuracy: 0.8395\n",
            "Epoch 37/100\n",
            "536/536 [==============================] - 2s 3ms/step - loss: 0.3741 - accuracy: 0.8402 - val_loss: 0.3716 - val_accuracy: 0.8459\n",
            "Epoch 38/100\n",
            "536/536 [==============================] - 2s 3ms/step - loss: 0.3643 - accuracy: 0.8481 - val_loss: 0.3717 - val_accuracy: 0.8489\n",
            "Epoch 39/100\n",
            "536/536 [==============================] - 2s 3ms/step - loss: 0.3754 - accuracy: 0.8405 - val_loss: 0.3738 - val_accuracy: 0.8395\n",
            "Epoch 40/100\n",
            "536/536 [==============================] - 2s 3ms/step - loss: 0.3606 - accuracy: 0.8478 - val_loss: 0.3742 - val_accuracy: 0.8364\n",
            "Epoch 41/100\n",
            "536/536 [==============================] - 2s 3ms/step - loss: 0.3779 - accuracy: 0.8477 - val_loss: 0.3705 - val_accuracy: 0.8440\n",
            "Epoch 42/100\n",
            "536/536 [==============================] - 2s 3ms/step - loss: 0.3681 - accuracy: 0.8490 - val_loss: 0.3712 - val_accuracy: 0.8436\n",
            "Epoch 43/100\n",
            "536/536 [==============================] - 2s 3ms/step - loss: 0.3845 - accuracy: 0.8369 - val_loss: 0.3725 - val_accuracy: 0.8421\n",
            "Epoch 44/100\n",
            "536/536 [==============================] - 2s 3ms/step - loss: 0.3789 - accuracy: 0.8455 - val_loss: 0.3710 - val_accuracy: 0.8436\n",
            "Epoch 45/100\n",
            "536/536 [==============================] - 2s 3ms/step - loss: 0.3780 - accuracy: 0.8445 - val_loss: 0.3711 - val_accuracy: 0.8421\n",
            "Epoch 46/100\n",
            "536/536 [==============================] - 2s 3ms/step - loss: 0.3778 - accuracy: 0.8382 - val_loss: 0.3679 - val_accuracy: 0.8482\n",
            "Epoch 47/100\n",
            "536/536 [==============================] - 2s 3ms/step - loss: 0.3714 - accuracy: 0.8516 - val_loss: 0.3690 - val_accuracy: 0.8406\n",
            "Epoch 48/100\n",
            "536/536 [==============================] - 2s 3ms/step - loss: 0.3638 - accuracy: 0.8474 - val_loss: 0.3632 - val_accuracy: 0.8497\n",
            "Epoch 49/100\n",
            "536/536 [==============================] - 2s 3ms/step - loss: 0.3621 - accuracy: 0.8583 - val_loss: 0.3686 - val_accuracy: 0.8489\n",
            "Epoch 50/100\n",
            "536/536 [==============================] - 2s 3ms/step - loss: 0.3670 - accuracy: 0.8495 - val_loss: 0.3671 - val_accuracy: 0.8504\n",
            "Epoch 51/100\n",
            "536/536 [==============================] - 2s 3ms/step - loss: 0.3799 - accuracy: 0.8441 - val_loss: 0.3691 - val_accuracy: 0.8470\n",
            "Epoch 52/100\n",
            "536/536 [==============================] - 2s 3ms/step - loss: 0.3649 - accuracy: 0.8463 - val_loss: 0.3677 - val_accuracy: 0.8463\n",
            "Epoch 53/100\n",
            "536/536 [==============================] - 2s 3ms/step - loss: 0.3772 - accuracy: 0.8409 - val_loss: 0.3636 - val_accuracy: 0.8485\n",
            "Epoch 54/100\n",
            "536/536 [==============================] - 2s 3ms/step - loss: 0.3793 - accuracy: 0.8491 - val_loss: 0.3640 - val_accuracy: 0.8485\n",
            "Epoch 55/100\n",
            "536/536 [==============================] - 2s 3ms/step - loss: 0.3832 - accuracy: 0.8423 - val_loss: 0.3622 - val_accuracy: 0.8463\n",
            "Epoch 56/100\n",
            "536/536 [==============================] - 2s 3ms/step - loss: 0.3746 - accuracy: 0.8462 - val_loss: 0.3661 - val_accuracy: 0.8455\n",
            "Epoch 57/100\n",
            "536/536 [==============================] - 2s 3ms/step - loss: 0.3630 - accuracy: 0.8506 - val_loss: 0.3635 - val_accuracy: 0.8463\n",
            "Epoch 58/100\n",
            "536/536 [==============================] - 2s 3ms/step - loss: 0.3670 - accuracy: 0.8488 - val_loss: 0.3629 - val_accuracy: 0.8485\n",
            "Epoch 59/100\n",
            "536/536 [==============================] - 2s 3ms/step - loss: 0.3698 - accuracy: 0.8424 - val_loss: 0.3627 - val_accuracy: 0.8489\n",
            "Epoch 60/100\n",
            "536/536 [==============================] - 2s 3ms/step - loss: 0.3728 - accuracy: 0.8507 - val_loss: 0.3614 - val_accuracy: 0.8470\n",
            "Epoch 61/100\n",
            "536/536 [==============================] - 2s 3ms/step - loss: 0.3569 - accuracy: 0.8530 - val_loss: 0.3647 - val_accuracy: 0.8482\n",
            "Epoch 62/100\n",
            "536/536 [==============================] - 2s 3ms/step - loss: 0.3572 - accuracy: 0.8470 - val_loss: 0.3607 - val_accuracy: 0.8482\n",
            "Epoch 63/100\n",
            "536/536 [==============================] - 2s 3ms/step - loss: 0.3561 - accuracy: 0.8529 - val_loss: 0.3602 - val_accuracy: 0.8482\n",
            "Epoch 64/100\n",
            "536/536 [==============================] - 2s 3ms/step - loss: 0.3669 - accuracy: 0.8505 - val_loss: 0.3570 - val_accuracy: 0.8542\n",
            "Epoch 65/100\n",
            "536/536 [==============================] - 2s 3ms/step - loss: 0.3600 - accuracy: 0.8481 - val_loss: 0.3580 - val_accuracy: 0.8482\n",
            "Epoch 66/100\n",
            "536/536 [==============================] - 2s 3ms/step - loss: 0.3608 - accuracy: 0.8489 - val_loss: 0.3592 - val_accuracy: 0.8489\n",
            "Epoch 67/100\n",
            "536/536 [==============================] - 2s 3ms/step - loss: 0.3696 - accuracy: 0.8426 - val_loss: 0.3641 - val_accuracy: 0.8470\n",
            "Epoch 68/100\n",
            "536/536 [==============================] - 2s 3ms/step - loss: 0.3673 - accuracy: 0.8512 - val_loss: 0.3607 - val_accuracy: 0.8478\n",
            "Epoch 69/100\n",
            "536/536 [==============================] - 2s 3ms/step - loss: 0.3550 - accuracy: 0.8575 - val_loss: 0.3591 - val_accuracy: 0.8497\n",
            "Epoch 70/100\n",
            "536/536 [==============================] - 2s 3ms/step - loss: 0.3504 - accuracy: 0.8580 - val_loss: 0.3602 - val_accuracy: 0.8466\n",
            "Epoch 71/100\n",
            "536/536 [==============================] - 2s 3ms/step - loss: 0.3558 - accuracy: 0.8548 - val_loss: 0.3598 - val_accuracy: 0.8497\n",
            "Epoch 72/100\n",
            "536/536 [==============================] - 2s 3ms/step - loss: 0.3652 - accuracy: 0.8445 - val_loss: 0.3603 - val_accuracy: 0.8504\n",
            "Epoch 73/100\n",
            "536/536 [==============================] - 2s 3ms/step - loss: 0.3575 - accuracy: 0.8537 - val_loss: 0.3575 - val_accuracy: 0.8523\n",
            "Epoch 74/100\n",
            "536/536 [==============================] - 2s 3ms/step - loss: 0.3821 - accuracy: 0.8382 - val_loss: 0.3610 - val_accuracy: 0.8478\n",
            "Epoch 75/100\n",
            "536/536 [==============================] - 2s 3ms/step - loss: 0.3677 - accuracy: 0.8435 - val_loss: 0.3561 - val_accuracy: 0.8501\n",
            "Epoch 76/100\n",
            "536/536 [==============================] - 2s 3ms/step - loss: 0.3645 - accuracy: 0.8496 - val_loss: 0.3576 - val_accuracy: 0.8561\n",
            "Epoch 77/100\n",
            "536/536 [==============================] - 2s 3ms/step - loss: 0.3576 - accuracy: 0.8483 - val_loss: 0.3596 - val_accuracy: 0.8485\n",
            "Epoch 78/100\n",
            "536/536 [==============================] - 2s 3ms/step - loss: 0.3597 - accuracy: 0.8507 - val_loss: 0.3572 - val_accuracy: 0.8508\n",
            "Epoch 79/100\n",
            "536/536 [==============================] - 2s 3ms/step - loss: 0.3717 - accuracy: 0.8516 - val_loss: 0.3627 - val_accuracy: 0.8474\n",
            "Epoch 80/100\n",
            "536/536 [==============================] - 2s 3ms/step - loss: 0.3757 - accuracy: 0.8368 - val_loss: 0.3595 - val_accuracy: 0.8493\n",
            "Epoch 81/100\n",
            "536/536 [==============================] - 2s 3ms/step - loss: 0.3589 - accuracy: 0.8505 - val_loss: 0.3639 - val_accuracy: 0.8493\n",
            "Epoch 82/100\n",
            "536/536 [==============================] - 2s 3ms/step - loss: 0.3696 - accuracy: 0.8530 - val_loss: 0.3570 - val_accuracy: 0.8508\n",
            "Epoch 83/100\n",
            "536/536 [==============================] - 2s 3ms/step - loss: 0.3517 - accuracy: 0.8572 - val_loss: 0.3593 - val_accuracy: 0.8501\n",
            "Epoch 84/100\n",
            "536/536 [==============================] - 2s 3ms/step - loss: 0.3544 - accuracy: 0.8535 - val_loss: 0.3625 - val_accuracy: 0.8485\n",
            "Epoch 85/100\n",
            "536/536 [==============================] - 2s 3ms/step - loss: 0.3615 - accuracy: 0.8496 - val_loss: 0.3569 - val_accuracy: 0.8523\n",
            "Epoch 86/100\n",
            "536/536 [==============================] - 2s 3ms/step - loss: 0.3571 - accuracy: 0.8530 - val_loss: 0.3603 - val_accuracy: 0.8512\n",
            "Epoch 87/100\n",
            "536/536 [==============================] - 2s 3ms/step - loss: 0.3619 - accuracy: 0.8437 - val_loss: 0.3575 - val_accuracy: 0.8519\n",
            "Epoch 88/100\n",
            "536/536 [==============================] - 2s 3ms/step - loss: 0.3539 - accuracy: 0.8522 - val_loss: 0.3585 - val_accuracy: 0.8557\n",
            "Epoch 89/100\n",
            "536/536 [==============================] - 2s 3ms/step - loss: 0.3454 - accuracy: 0.8605 - val_loss: 0.3602 - val_accuracy: 0.8485\n",
            "Epoch 90/100\n",
            "536/536 [==============================] - 2s 3ms/step - loss: 0.3557 - accuracy: 0.8526 - val_loss: 0.3594 - val_accuracy: 0.8478\n",
            "Epoch 91/100\n",
            "536/536 [==============================] - 2s 3ms/step - loss: 0.3725 - accuracy: 0.8415 - val_loss: 0.3583 - val_accuracy: 0.8508\n",
            "Epoch 92/100\n",
            "536/536 [==============================] - 2s 3ms/step - loss: 0.3735 - accuracy: 0.8424 - val_loss: 0.3590 - val_accuracy: 0.8482\n",
            "Epoch 93/100\n",
            "536/536 [==============================] - 2s 3ms/step - loss: 0.3537 - accuracy: 0.8530 - val_loss: 0.3562 - val_accuracy: 0.8535\n",
            "Epoch 94/100\n",
            "536/536 [==============================] - 2s 3ms/step - loss: 0.3549 - accuracy: 0.8463 - val_loss: 0.3588 - val_accuracy: 0.8531\n",
            "Epoch 95/100\n",
            "536/536 [==============================] - 2s 3ms/step - loss: 0.3742 - accuracy: 0.8393 - val_loss: 0.3586 - val_accuracy: 0.8546\n",
            "Epoch 96/100\n",
            "536/536 [==============================] - 2s 3ms/step - loss: 0.3487 - accuracy: 0.8569 - val_loss: 0.3622 - val_accuracy: 0.8516\n",
            "Epoch 97/100\n",
            "536/536 [==============================] - 2s 3ms/step - loss: 0.3635 - accuracy: 0.8496 - val_loss: 0.3554 - val_accuracy: 0.8550\n",
            "Epoch 98/100\n",
            "536/536 [==============================] - 2s 3ms/step - loss: 0.3555 - accuracy: 0.8571 - val_loss: 0.3604 - val_accuracy: 0.8474\n",
            "Epoch 99/100\n",
            "536/536 [==============================] - 2s 3ms/step - loss: 0.3507 - accuracy: 0.8493 - val_loss: 0.3604 - val_accuracy: 0.8489\n",
            "Epoch 100/100\n",
            "536/536 [==============================] - 2s 3ms/step - loss: 0.3575 - accuracy: 0.8528 - val_loss: 0.3589 - val_accuracy: 0.8508\n"
          ],
          "name": "stdout"
        }
      ]
    },
    {
      "cell_type": "code",
      "metadata": {
        "colab": {
          "base_uri": "https://localhost:8080/",
          "height": 311
        },
        "id": "Br9tfEogfwoO",
        "outputId": "d3070c10-35e7-4da0-c549-e903c831311e"
      },
      "source": [
        "# List all data in history\n",
        "print(model_history.history.keys())\n",
        "\n",
        "#summarize history for accuracy\n",
        "plt.plot(model_history.history['accuracy'])\n",
        "plt.plot(model_history.history['val_accuracy'])\n",
        "plt.title('model accuracy')\n",
        "plt.ylabel('accuracy')\n",
        "plt.xlabel('epoch')\n",
        "plt.legend(['train', 'test'], loc = 'upper left')\n",
        "plt.show()"
      ],
      "execution_count": null,
      "outputs": [
        {
          "output_type": "stream",
          "text": [
            "dict_keys(['loss', 'accuracy', 'val_loss', 'val_accuracy'])\n"
          ],
          "name": "stdout"
        },
        {
          "output_type": "display_data",
          "data": {
            "image/png": "[encoded data removed]",
            "text/plain": [
              "<Figure size 432x288 with 1 Axes>"
            ]
          },
          "metadata": {
            "tags": [],
            "needs_background": "light"
          }
        }
      ]
    },
    {
      "cell_type": "code",
      "metadata": {
        "colab": {
          "base_uri": "https://localhost:8080/",
          "height": 295
        },
        "id": "xBFMumfGjIdV",
        "outputId": "589ea60a-f17a-4e19-893a-31c987d6cc7c"
      },
      "source": [
        "#summarize history for loss\n",
        "\n",
        "plt.plot(model_history.history['loss'])\n",
        "plt.plot(model_history.history['val_loss'])\n",
        "plt.title('model loss')\n",
        "plt.ylabel('loss')\n",
        "plt.xlabel('epoch')\n",
        "plt.legend(['train', 'test'], loc = 'upper left')\n",
        "plt.show()"
      ],
      "execution_count": null,
      "outputs": [
        {
          "output_type": "display_data",
          "data": {
            "image/png": "[encoded data removed]",
            "text/plain": [
              "<Figure size 432x288 with 1 Axes>"
            ]
          },
          "metadata": {
            "tags": [],
            "needs_background": "light"
          }
        }
      ]
    },
    {
      "cell_type": "markdown",
      "metadata": {
        "id": "9ugZkGjNjfYK"
      },
      "source": [
        "## Part 3 - Making the prediction and evaluating the model"
      ]
    },
    {
      "cell_type": "markdown",
      "metadata": {
        "id": "8QlHHuNYjnqI"
      },
      "source": [
        "## Predicting the test set result"
      ]
    },
    {
      "cell_type": "code",
      "metadata": {
        "id": "NVrL-Ywhjebf"
      },
      "source": [
        "y_pred = classifier.predict(X_test)\n",
        "y_pred = (y_pred > 0.5)"
      ],
      "execution_count": null,
      "outputs": []
    },
    {
      "cell_type": "code",
      "metadata": {
        "colab": {
          "base_uri": "https://localhost:8080/"
        },
        "id": "YtmPoiL6jwB7",
        "outputId": "764c63b1-7f81-46b2-c504-3555ee7511bd"
      },
      "source": [
        "# Making the confusion Matrix\n",
        "from sklearn.metrics import confusion_matrix\n",
        "cm = confusion_matrix(y_test, y_pred)\n",
        "cm"
      ],
      "execution_count": null,
      "outputs": [
        {
          "output_type": "execute_result",
          "data": {
            "text/plain": [
              "array([[1560,   35],\n",
              "       [ 240,  165]])"
            ]
          },
          "metadata": {
            "tags": []
          },
          "execution_count": 36
        }
      ]
    },
    {
      "cell_type": "code",
      "metadata": {
        "id": "9I3eybrNkAjv"
      },
      "source": [
        "# Calculate the Accuracy\n",
        "from sklearn.metrics import accuracy_score\n",
        "score = accuracy_score(y_pred, y_test)"
      ],
      "execution_count": null,
      "outputs": []
    },
    {
      "cell_type": "code",
      "metadata": {
        "colab": {
          "base_uri": "https://localhost:8080/"
        },
        "id": "ZGjaMVDhkLKV",
        "outputId": "7b23f26c-007c-4fde-f8ae-006cadc440eb"
      },
      "source": [
        "score"
      ],
      "execution_count": null,
      "outputs": [
        {
          "output_type": "execute_result",
          "data": {
            "text/plain": [
              "0.8625"
            ]
          },
          "metadata": {
            "tags": []
          },
          "execution_count": 38
        }
      ]
    }
  ]
}